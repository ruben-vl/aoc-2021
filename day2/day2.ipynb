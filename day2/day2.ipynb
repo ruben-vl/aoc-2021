{
 "cells": [
  {
   "cell_type": "code",
   "execution_count": null,
   "id": "2b4a465f",
   "metadata": {},
   "outputs": [],
   "source": [
    "lines = open('input.txt','r').readlines()\n",
    "pos = 0\n",
    "depth = 0\n",
    "for line in lines:\n",
    "    splitted = line.split(' ')\n",
    "    if splitted[0] == 'forward':\n",
    "        pos += int(splitted[1])\n",
    "    elif splitted[0] == 'down':\n",
    "        depth += int(splitted[1])\n",
    "    elif splitted[0] == 'up':\n",
    "        depth -= int(splitted[1])\n",
    "        \n",
    "print(pos)\n",
    "print(depth)\n",
    "print(pos*depth)"
   ]
  },
  {
   "cell_type": "code",
   "execution_count": null,
   "id": "4369bcc0",
   "metadata": {},
   "outputs": [],
   "source": [
    "lines = open('input.txt','r').readlines()\n",
    "pos = 0\n",
    "depth = 0\n",
    "aim = 0\n",
    "for line in lines:\n",
    "    splitted = line.split(' ')\n",
    "    if splitted[0] == 'forward':\n",
    "        pos += int(splitted[1])\n",
    "        depth += aim*int(splitted[1])\n",
    "    elif splitted[0] == 'down':\n",
    "        aim += int(splitted[1])\n",
    "    elif splitted[0] == 'up':\n",
    "        aim -= int(splitted[1])\n",
    "        \n",
    "print(pos)\n",
    "print(depth)\n",
    "print(pos*depth)"
   ]
  }
 ],
 "metadata": {
  "kernelspec": {
   "display_name": "Python 3 (ipykernel)",
   "language": "python",
   "name": "python3"
  },
  "language_info": {
   "codemirror_mode": {
    "name": "ipython",
    "version": 3
   },
   "file_extension": ".py",
   "mimetype": "text/x-python",
   "name": "python",
   "nbconvert_exporter": "python",
   "pygments_lexer": "ipython3",
   "version": "3.8.10"
  }
 },
 "nbformat": 4,
 "nbformat_minor": 5
}
