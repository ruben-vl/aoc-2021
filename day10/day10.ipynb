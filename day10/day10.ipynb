{
 "cells": [
  {
   "cell_type": "code",
   "execution_count": 15,
   "id": "c8cf27b8",
   "metadata": {},
   "outputs": [
    {
     "name": "stdout",
     "output_type": "stream",
     "text": [
      "Count: 47\n",
      "Part 1: 216297\n"
     ]
    },
    {
     "ename": "TypeError",
     "evalue": "'NoneType' object is not iterable",
     "output_type": "error",
     "traceback": [
      "\u001b[0;31m---------------------------------------------------------------------------\u001b[0m",
      "\u001b[0;31mTypeError\u001b[0m                                 Traceback (most recent call last)",
      "\u001b[0;32m/tmp/ipykernel_6966/4018965865.py\u001b[0m in \u001b[0;36m<module>\u001b[0;34m\u001b[0m\n\u001b[1;32m     62\u001b[0m     \u001b[0;32mif\u001b[0m \u001b[0mopen_brackets\u001b[0m \u001b[0;34m==\u001b[0m \u001b[0;32mNone\u001b[0m\u001b[0;34m:\u001b[0m \u001b[0;32mcontinue\u001b[0m\u001b[0;34m\u001b[0m\u001b[0;34m\u001b[0m\u001b[0m\n\u001b[1;32m     63\u001b[0m     \u001b[0mcount\u001b[0m \u001b[0;34m+=\u001b[0m \u001b[0;36m1\u001b[0m\u001b[0;34m\u001b[0m\u001b[0;34m\u001b[0m\u001b[0m\n\u001b[0;32m---> 64\u001b[0;31m     \u001b[0mrev\u001b[0m \u001b[0;34m=\u001b[0m \u001b[0mrever\u001b[0m\u001b[0;34m(\u001b[0m\u001b[0mopen_brackets\u001b[0m\u001b[0;34m)\u001b[0m\u001b[0;34m\u001b[0m\u001b[0;34m\u001b[0m\u001b[0m\n\u001b[0m\u001b[1;32m     65\u001b[0m     \u001b[0;32mfor\u001b[0m \u001b[0mchar\u001b[0m \u001b[0;32min\u001b[0m \u001b[0mrev\u001b[0m\u001b[0;34m:\u001b[0m\u001b[0;34m\u001b[0m\u001b[0;34m\u001b[0m\u001b[0m\n\u001b[1;32m     66\u001b[0m         \u001b[0mscore\u001b[0m \u001b[0;34m*=\u001b[0m \u001b[0;36m5\u001b[0m\u001b[0;34m\u001b[0m\u001b[0;34m\u001b[0m\u001b[0m\n",
      "\u001b[0;32m/tmp/ipykernel_6966/4018965865.py\u001b[0m in \u001b[0;36mrever\u001b[0;34m(open_brackets)\u001b[0m\n\u001b[1;32m     49\u001b[0m \u001b[0;32mdef\u001b[0m \u001b[0mrever\u001b[0m\u001b[0;34m(\u001b[0m\u001b[0mopen_brackets\u001b[0m\u001b[0;34m)\u001b[0m\u001b[0;34m:\u001b[0m\u001b[0;34m\u001b[0m\u001b[0;34m\u001b[0m\u001b[0m\n\u001b[1;32m     50\u001b[0m     \u001b[0mresult\u001b[0m \u001b[0;34m=\u001b[0m \u001b[0;34m[\u001b[0m\u001b[0;34m]\u001b[0m\u001b[0;34m\u001b[0m\u001b[0;34m\u001b[0m\u001b[0m\n\u001b[0;32m---> 51\u001b[0;31m     \u001b[0;32mfor\u001b[0m \u001b[0mbracket\u001b[0m \u001b[0;32min\u001b[0m \u001b[0mopen_brackets\u001b[0m\u001b[0;34m.\u001b[0m\u001b[0mreverse\u001b[0m\u001b[0;34m(\u001b[0m\u001b[0;34m)\u001b[0m\u001b[0;34m:\u001b[0m\u001b[0;34m\u001b[0m\u001b[0;34m\u001b[0m\u001b[0m\n\u001b[0m\u001b[1;32m     52\u001b[0m         \u001b[0mresult\u001b[0m\u001b[0;34m.\u001b[0m\u001b[0mappend\u001b[0m\u001b[0;34m(\u001b[0m\u001b[0mmatch\u001b[0m\u001b[0;34m[\u001b[0m\u001b[0mbracket\u001b[0m\u001b[0;34m]\u001b[0m\u001b[0;34m)\u001b[0m\u001b[0;34m\u001b[0m\u001b[0;34m\u001b[0m\u001b[0m\n\u001b[1;32m     53\u001b[0m     \u001b[0;32mreturn\u001b[0m \u001b[0mresult\u001b[0m\u001b[0;34m\u001b[0m\u001b[0;34m\u001b[0m\u001b[0m\n",
      "\u001b[0;31mTypeError\u001b[0m: 'NoneType' object is not iterable"
     ]
    }
   ],
   "source": [
    "import math\n",
    "\n",
    "lines = open('input.txt','r').readlines()\n",
    "scores = {')':3,']':57,'}':1197,'>':25137}\n",
    "match = {')':'(',']':'[','}':'{','>':'<',\n",
    "        '(':')','[':']','{':'}','<':'>'}\n",
    "\n",
    "def find_first_illegal(line):\n",
    "    stack = []\n",
    "    for char in line.strip('\\n'):\n",
    "        if char in ['(','{','[','<']:\n",
    "            stack.append(char)\n",
    "        elif char in [')','}',']','>']:\n",
    "            if stack[-1] == match[char]:\n",
    "                stack.pop()\n",
    "            else:\n",
    "                return char\n",
    "        else:\n",
    "            print(\"Weird char on stack.\")\n",
    "    return None\n",
    "\n",
    "score = 0\n",
    "count = 0\n",
    "\n",
    "for line in lines:\n",
    "    ill = find_first_illegal(line)\n",
    "    if ill == None: continue\n",
    "    count += 1\n",
    "    score += scores[ill]\n",
    "    \n",
    "print(\"Count: \"+str(count))\n",
    "    \n",
    "print(\"Part 1: \"+str(score))\n",
    "\n",
    "def get_open(line):\n",
    "    stack = []\n",
    "    for char in line.strip('\\n'):\n",
    "        if char in ['(','{','[','<']:\n",
    "            stack.append(char)\n",
    "        elif char in [')','}',']','>']:\n",
    "            if stack[-1] == match[char]:\n",
    "                stack.pop()\n",
    "            else:\n",
    "                return None\n",
    "        else:\n",
    "            print(\"Weird char on stack.\")\n",
    "    return stack\n",
    "\n",
    "def rever(open_brackets):\n",
    "    result = []\n",
    "    open_brackets.reverse()\n",
    "    for bracket in open_brackets.reverse():\n",
    "        result.append(match[bracket])\n",
    "    return result\n",
    "\n",
    "line_scores = []\n",
    "new_scores = {')':1,']':2,'}':3,'>':4}\n",
    "count = 0\n",
    "\n",
    "for line in lines:\n",
    "    score = 0\n",
    "    open_brackets = get_open(line)\n",
    "    if open_brackets == None: continue\n",
    "    count += 1\n",
    "    rev = rever(open_brackets)\n",
    "    for char in rev:\n",
    "        score *= 5\n",
    "        score += new_scores[char]\n",
    "    line_scores.append(score)\n",
    "    \n",
    "print(\"Count: \"+str(count))\n",
    "print(len(lines))\n",
    "\n",
    "line_scores.sort()\n",
    "print(line_scores)\n",
    "print(line_scores[math.floor(len(line_scores)/2)])\n",
    "print(line_scores[22])"
   ]
  }
 ],
 "metadata": {
  "kernelspec": {
   "display_name": "Python 3 (ipykernel)",
   "language": "python",
   "name": "python3"
  },
  "language_info": {
   "codemirror_mode": {
    "name": "ipython",
    "version": 3
   },
   "file_extension": ".py",
   "mimetype": "text/x-python",
   "name": "python",
   "nbconvert_exporter": "python",
   "pygments_lexer": "ipython3",
   "version": "3.8.10"
  }
 },
 "nbformat": 4,
 "nbformat_minor": 5
}
