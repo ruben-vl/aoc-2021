{
 "cells": [
  {
   "cell_type": "code",
   "execution_count": null,
   "id": "3acbfbea",
   "metadata": {},
   "outputs": [],
   "source": [
    "lines = open('input.txt','r').readlines()\n",
    "\n",
    "for i in range(12):\n",
    "    count = 0\n",
    "    for j in lines:\n",
    "        count += int(str(j)[i])\n",
    "    print(i)\n",
    "    print(count)"
   ]
  },
  {
   "cell_type": "code",
   "execution_count": null,
   "id": "a331df02",
   "metadata": {},
   "outputs": [],
   "source": [
    "lines = open('input.txt','r').readlines()\n",
    "\n",
    "new_list = []\n",
    "for line in lines:\n",
    "    new_list.append(line.replace('\\n',''))\n",
    "\n",
    "lines = new_list\n",
    "\n",
    "for i in range(12):\n",
    "    \n",
    "    print(\"i: \"+str(i))\n",
    "    count = 0\n",
    "    for line in lines:\n",
    "        count += int(line[i])\n",
    "    if count >= len(lines)/2:\n",
    "        criteria = 0\n",
    "    else:\n",
    "        criteria = 1\n",
    "    print(\"criteria: \"+str(criteria))\n",
    "    \n",
    "    new_list = []\n",
    "    for line in lines:\n",
    "        if int(line[i]) == criteria:\n",
    "            new_list.append(line)\n",
    "    if (len(lines)) < 10:\n",
    "        print(lines)\n",
    "    lines = new_list"
   ]
  }
 ],
 "metadata": {
  "kernelspec": {
   "display_name": "Python 3 (ipykernel)",
   "language": "python",
   "name": "python3"
  },
  "language_info": {
   "codemirror_mode": {
    "name": "ipython",
    "version": 3
   },
   "file_extension": ".py",
   "mimetype": "text/x-python",
   "name": "python",
   "nbconvert_exporter": "python",
   "pygments_lexer": "ipython3",
   "version": "3.8.10"
  }
 },
 "nbformat": 4,
 "nbformat_minor": 5
}
