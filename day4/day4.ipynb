{
 "cells": [
  {
   "cell_type": "code",
   "execution_count": null,
   "id": "f23cc672",
   "metadata": {},
   "outputs": [],
   "source": [
    "lines = open('input.txt','r').readlines()\n",
    "\n",
    "numbers = list(map(lambda s: s.replace('\\n',''),lines[0].split(',')))\n",
    "\n",
    "boards = []\n",
    "temp = []\n",
    "\n",
    "for chunk in divide_chunks(lines[1:],6):\n",
    "    temp.append(chunk[1:])\n",
    "    \n",
    "for t in temp:\n",
    "    boards.append(list(map(lambda s: s.strip('\\n').strip().replace('  ',' ').split(' '),t)))\n",
    "\n",
    "winningBoards = []\n",
    "for i in range(len(numbers)):\n",
    "    num = numbers[:i]\n",
    "    for board in boards:\n",
    "        if isWin(board,num):\n",
    "            if (boards.index(board) not in winningBoards):\n",
    "                winningBoards.append(boards.index(board))\n",
    "                print(\"Len: \"+str(len(winningBoards)))\n",
    "                print(\"WBoards: \"+str(winningBoards))\n",
    "                print(getUnmarkedSum(board,num))\n",
    "                print(num.pop())"
   ]
  },
  {
   "cell_type": "code",
   "execution_count": null,
   "id": "ea399334",
   "metadata": {},
   "outputs": [],
   "source": [
    "def divide_chunks(l, n):\n",
    "    for i in range(0, len(l), n): \n",
    "        yield l[i:i + n]\n",
    "        \n",
    "def isWin(board, num):\n",
    "    return isWinRow(board,num) or isWinCol(board,num)\n",
    "\n",
    "def isWinRow(board, num):\n",
    "    for row in board:\n",
    "        win = True\n",
    "        for elem in row:\n",
    "            if elem not in num:\n",
    "                win = False\n",
    "        if win:\n",
    "            return True\n",
    "    return False\n",
    "\n",
    "def isWinCol(board, num):\n",
    "    for i in range(5):\n",
    "        win = True\n",
    "        for row in board:\n",
    "            if row[i] not in num:\n",
    "                win = False\n",
    "        if win:\n",
    "            return True\n",
    "    return False\n",
    "\n",
    "def getUnmarkedSum(board, num):\n",
    "    res = []\n",
    "    for row in board:\n",
    "        for elem in row:\n",
    "            if elem not in num:\n",
    "                res.append(elem)\n",
    "    s = 0\n",
    "    for e in res:\n",
    "        s += int(e)\n",
    "    return s"
   ]
  }
 ],
 "metadata": {
  "kernelspec": {
   "display_name": "Python 3 (ipykernel)",
   "language": "python",
   "name": "python3"
  },
  "language_info": {
   "codemirror_mode": {
    "name": "ipython",
    "version": 3
   },
   "file_extension": ".py",
   "mimetype": "text/x-python",
   "name": "python",
   "nbconvert_exporter": "python",
   "pygments_lexer": "ipython3",
   "version": "3.8.10"
  }
 },
 "nbformat": 4,
 "nbformat_minor": 5
}
