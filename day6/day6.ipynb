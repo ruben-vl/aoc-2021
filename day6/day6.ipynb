{
 "cells": [
  {
   "cell_type": "code",
   "execution_count": null,
   "id": "96e464e8",
   "metadata": {},
   "outputs": [],
   "source": [
    "from collections import Counter\n",
    "\n",
    "lines = open('input.txt','r').readlines()\n",
    "\n",
    "fish = list(map(lambda s: int(s),lines[0].strip('\\n').split(',')))\n",
    "\n",
    "counts = dict(Counter(fish))\n",
    "\n",
    "for i in range(1000000):\n",
    "    counts = doIteration(counts)\n",
    "    \n",
    "s = 0\n",
    "for key in counts:\n",
    "    s += counts[key]\n",
    "print(s)"
   ]
  },
  {
   "cell_type": "code",
   "execution_count": null,
   "id": "fd7d0a9d",
   "metadata": {},
   "outputs": [],
   "source": [
    "def doIteration(fish):\n",
    "    new_fish = { 0: 0, 1: 0, 2: 0, 3: 0, 4: 0, 5: 0, 6: 0, 7: 0, 8: 0 }\n",
    "    for x in fish:\n",
    "        if x == 0:\n",
    "            new_fish[8] += fish[0]\n",
    "            new_fish[6] += fish[0]\n",
    "        else:\n",
    "            new_fish[x-1] += fish[x]\n",
    "    return new_fish"
   ]
  }
 ],
 "metadata": {
  "kernelspec": {
   "display_name": "Python 3 (ipykernel)",
   "language": "python",
   "name": "python3"
  },
  "language_info": {
   "codemirror_mode": {
    "name": "ipython",
    "version": 3
   },
   "file_extension": ".py",
   "mimetype": "text/x-python",
   "name": "python",
   "nbconvert_exporter": "python",
   "pygments_lexer": "ipython3",
   "version": "3.8.10"
  }
 },
 "nbformat": 4,
 "nbformat_minor": 5
}
