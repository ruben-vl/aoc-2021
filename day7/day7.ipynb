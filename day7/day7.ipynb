{
 "cells": [
  {
   "cell_type": "code",
   "execution_count": 7,
   "id": "80251e28",
   "metadata": {},
   "outputs": [
    {
     "name": "stdout",
     "output_type": "stream",
     "text": [
      "      fun: 344297.5709296809\n",
      " hess_inv: array([[0.32587564]])\n",
      "      jac: array([2.])\n",
      "  message: 'Desired error not necessarily achieved due to precision loss.'\n",
      "     nfev: 108\n",
      "      nit: 6\n",
      "     njev: 51\n",
      "   status: 2\n",
      "  success: False\n",
      "        x: array([313.28546484])\n",
      "344297\n"
     ]
    }
   ],
   "source": [
    "from scipy.optimize import minimize\n",
    "\n",
    "lines = open('input.txt','r').readlines()\n",
    "\n",
    "positions = list(map(lambda s: int(s),lines[0].strip('\\n').split(',')))\n",
    "\n",
    "def fun(x):\n",
    "    positions = list(map(lambda s: int(s),lines[0].strip('\\n').split(',')))\n",
    "    return sum(list(map(lambda e: abs(e-x),positions)))\n",
    "\n",
    "print(minimize(fun, 0))\n",
    "\n",
    "print(sum(list(map(lambda e: abs(e-313),positions))))"
   ]
  },
  {
   "cell_type": "code",
   "execution_count": 10,
   "id": "c683def3",
   "metadata": {},
   "outputs": [
    {
     "name": "stdout",
     "output_type": "stream",
     "text": [
      "      fun: array([97164222.5934864])\n",
      " hess_inv: array([[7.60261779e-09]])\n",
      "      jac: array([-1.])\n",
      "  message: 'Desired error not necessarily achieved due to precision loss.'\n",
      "     nfev: 141\n",
      "      nit: 6\n",
      "     njev: 65\n",
      "   status: 2\n",
      "  success: False\n",
      "        x: array([465.39772419])\n",
      "97164301.0\n"
     ]
    }
   ],
   "source": [
    "from scipy.optimize import minimize\n",
    "\n",
    "lines = open('input.txt','r').readlines()\n",
    "\n",
    "positions = list(map(lambda s: int(s),lines[0].strip('\\n').split(',')))\n",
    "\n",
    "def fun(x):\n",
    "    positions = list(map(lambda s: int(s),lines[0].strip('\\n').split(',')))\n",
    "    return sum(list(map(lambda e: abs(e-x)*(abs(e-x)+1)*(1/2),positions)))\n",
    "\n",
    "print(minimize(fun, 0))\n",
    "\n",
    "print(sum(list(map(lambda e: abs(e-465)*(abs(e-465)+1)*(1/2),positions))))"
   ]
  }
 ],
 "metadata": {
  "kernelspec": {
   "display_name": "Python 3 (ipykernel)",
   "language": "python",
   "name": "python3"
  },
  "language_info": {
   "codemirror_mode": {
    "name": "ipython",
    "version": 3
   },
   "file_extension": ".py",
   "mimetype": "text/x-python",
   "name": "python",
   "nbconvert_exporter": "python",
   "pygments_lexer": "ipython3",
   "version": "3.8.10"
  }
 },
 "nbformat": 4,
 "nbformat_minor": 5
}
