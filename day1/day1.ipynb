{
 "cells": [
  {
   "cell_type": "code",
   "execution_count": null,
   "id": "0e38792b",
   "metadata": {},
   "outputs": [],
   "source": [
    "lines = open('input.txt','r').readlines()\n",
    "count = 0\n",
    "for i in range(len(lines)):\n",
    "    if (str2int(lines[i]) > str2int(lines[i-1])):\n",
    "        count += 1\n",
    "print(count)"
   ]
  },
  {
   "cell_type": "code",
   "execution_count": null,
   "id": "1f9a618a",
   "metadata": {},
   "outputs": [],
   "source": [
    "lines = open('input.txt','r').readlines()\n",
    "count = 0\n",
    "for i in range(3,len(lines)):\n",
    "    sum1 = str2int(lines[i-1]) + str2int(lines[i-2]) + str2int(lines[i-3])\n",
    "    sum2 = str2int(lines[i]) + str2int(lines[i-1]) + str2int(lines[i-2])\n",
    "    if (sum2 > sum1):\n",
    "        count += 1\n",
    "print(count)"
   ]
  },
  {
   "cell_type": "code",
   "execution_count": null,
   "id": "143ec424",
   "metadata": {},
   "outputs": [],
   "source": [
    "def str2int(string):\n",
    "    return int(string.strip('\\n'))"
   ]
  }
 ],
 "metadata": {
  "kernelspec": {
   "display_name": "Python 3 (ipykernel)",
   "language": "python",
   "name": "python3"
  },
  "language_info": {
   "codemirror_mode": {
    "name": "ipython",
    "version": 3
   },
   "file_extension": ".py",
   "mimetype": "text/x-python",
   "name": "python",
   "nbconvert_exporter": "python",
   "pygments_lexer": "ipython3",
   "version": "3.8.10"
  }
 },
 "nbformat": 4,
 "nbformat_minor": 5
}
